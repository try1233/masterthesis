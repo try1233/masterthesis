{
 "cells": [
  {
   "cell_type": "code",
   "execution_count": 1,
   "metadata": {
    "tags": [
     "hide-input"
    ]
   },
   "outputs": [],
   "source": [
    "import torch\n",
    "import torch.nn as nn\n",
    "import torch.optim as optim\n",
    "import torch.nn.functional as F\n",
    "import torch.backends.cudnn as cudnn\n",
    "#import pytorch_cifar.models.resnet as resnet\n",
    "from torchsummary import summary\n",
    "import torchvision\n",
    "import torchvision.transforms as transforms\n",
    "import os\n",
    "import argparse\n",
    "#import patchSmoothing.utils_block as utils\n"
   ]
  },
  {
   "cell_type": "code",
   "execution_count": 2,
   "metadata": {},
   "outputs": [
    {
     "name": "stdout",
     "output_type": "stream",
     "text": [
      "Files already downloaded and verified\n",
      "Files already downloaded and verified\n"
     ]
    }
   ],
   "source": [
    "from training import load_image_dataset \n",
    "train_data, short_train_data, short_test_data, test_data = load_image_dataset(\"CIFAR10\", './../data')\n",
    "trainloader = torch.utils.data.DataLoader(short_train_data, batch_size=256)\n",
    "testloader = torch.utils.data.DataLoader(short_test_data, batch_size=128)\n"
   ]
  },
  {
   "cell_type": "code",
   "execution_count": 3,
   "metadata": {},
   "outputs": [
    {
     "name": "stdout",
     "output_type": "stream",
     "text": [
      "==> Checkpoint directory /master_thesis/checkpoints\n",
      "==> Saving to .//master_thesis/checkpoints/cifar_one_block__regularization_0.0005_model_resnet18_block_15_epoch_{}.pth\n"
     ]
    }
   ],
   "source": [
    "from models import ResNet18, ResNet50\n",
    "torch.manual_seed(0)\n",
    "torch.cuda.manual_seed(0)\n",
    "\n",
    "block_size = 15\n",
    "regularization = 0.0005\n",
    "model  = 'resnet18'\n",
    "\n",
    "\n",
    "checkpoint_dir = '/master_thesis/checkpoints'\n",
    "if not os.path.exists('./master_thesis/checkpoints'):\n",
    "    os.makedirs('./master_thesis/checkpoints')\n",
    "checkpoint_file = f'./{checkpoint_dir}/cifar_one_block__regularization_{regularization}_model_{model}_block_{block_size}_epoch_{{}}.pth'\n",
    "\n",
    "print(\"==> Checkpoint directory\", checkpoint_dir)\n",
    "print(\"==> Saving to\", checkpoint_file)\n",
    "\n",
    "device = 'cuda' if torch.cuda.is_available() else 'cpu'\n",
    "start_epoch = 0  # start from epoch 0 or last checkpoint epoch\n",
    "\n",
    "    "
   ]
  },
  {
   "cell_type": "code",
   "execution_count": 4,
   "metadata": {
    "scrolled": true
   },
   "outputs": [
    {
     "name": "stdout",
     "output_type": "stream",
     "text": [
      "Starting training\n",
      "\n",
      "Epoch: 0\n",
      "8.8\n",
      "8.8\n",
      "\n",
      "Epoch: 10\n",
      "24.1\n",
      "24.1\n",
      "\n",
      "Epoch: 20\n",
      "12.8\n",
      "12.8\n",
      "\n",
      "Epoch: 30\n",
      "17.4\n",
      "17.4\n",
      "Saving..\n",
      "17.4\n",
      "Starting training\n",
      "\n",
      "Epoch: 0\n",
      "30.6\n",
      "30.6\n",
      "\n",
      "Epoch: 10\n",
      "30.6\n",
      "30.6\n",
      "\n",
      "Epoch: 20\n",
      "24.4\n",
      "24.4\n",
      "\n",
      "Epoch: 30\n",
      "33.7\n",
      "33.7\n",
      "Saving..\n",
      "33.7\n",
      "Starting training\n",
      "\n",
      "Epoch: 0\n",
      "35.1\n",
      "35.1\n",
      "\n",
      "Epoch: 10\n",
      "35.1\n",
      "35.1\n",
      "\n",
      "Epoch: 20\n",
      "34.5\n",
      "34.5\n",
      "Saving..\n",
      "34.5\n"
     ]
    },
    {
     "data": {
      "image/png": "[encoded data removed]",
      "text/plain": [
       "<Figure size 640x480 with 1 Axes>"
      ]
     },
     "metadata": {},
     "output_type": "display_data"
    }
   ],
   "source": [
    "from training import train, test_nominal, plot_list\n",
    "\n",
    "accuracy = []\n",
    "epochs = [30,30,20]\n",
    "lrs = [0.1, 0.01, 0.001]\n",
    "noise = 0.3\n",
    "net = ResNet50(ablate = True).to(device)#resnet.\n",
    "if device == 'cuda':\n",
    "    net = torch.nn.DataParallel(net)\n",
    "    cudnn.benchmark = True\n",
    "for i, lr in enumerate(lrs):\n",
    "    end_epoch = epochs[i]\n",
    "    optimizer = optim.SGD(net.parameters(), lr=lr, momentum=0.9, weight_decay=regularization)\n",
    "    print('Starting training')\n",
    "    for epoch in range(start_epoch,  end_epoch+1):\n",
    "        train(net, epoch, optimizer, block_size, sigma = noise, trainloader = trainloader, mode = 'ablation_noise', noise_type = \"gaussian\")\n",
    "        #test_nominal(net, epoch, block_size, noise, end_epoch=end_epoch, testloader = testloader)\n",
    "        if epoch % 10 ==0:\n",
    "            accuracy.append(test_nominal(net,epoch, block_size, noise, mode = 'ablation_noise',noise_type = \"gaussian\", end_epoch=end_epoch, checkpoint_dir=checkpoint_file, testloader = testloader))\n",
    "    \n",
    "\n",
    "plot_list(accuracy)\n",
    "\n",
    "    "
   ]
  },
  {
   "cell_type": "code",
   "execution_count": 5,
   "metadata": {},
   "outputs": [
    {
     "data": {
      "text/plain": [
       "'/nfs/homedirs/scle/src/my-project/seml/examples/tutorial/master_thesis'"
      ]
     },
     "execution_count": 5,
     "metadata": {},
     "output_type": "execute_result"
    }
   ],
   "source": [
    "pwd"
   ]
  },
  {
   "cell_type": "code",
   "execution_count": null,
   "metadata": {},
   "outputs": [],
   "source": []
  }
 ],
 "metadata": {
  "kernelspec": {
   "display_name": "Python 3 (ipykernel)",
   "language": "python",
   "name": "python3"
  },
  "language_info": {
   "codemirror_mode": {
    "name": "ipython",
    "version": 3
   },
   "file_extension": ".py",
   "mimetype": "text/x-python",
   "name": "python",
   "nbconvert_exporter": "python",
   "pygments_lexer": "ipython3",
   "version": "3.10.8"
  }
 },
 "nbformat": 4,
 "nbformat_minor": 4
}
