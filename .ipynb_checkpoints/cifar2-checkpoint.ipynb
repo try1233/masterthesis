{
 "cells": [
  {
   "cell_type": "code",
   "execution_count": null,
   "metadata": {},
   "outputs": [],
   "source": [
    "\n",
    "import torch\n",
    "import torch.nn as nn\n",
    "import torch.optim as optim\n",
    "import torch.nn.functional as F\n",
    "import torch.backends.cudnn as cudnn\n",
    "#import pytorch_cifar.models.resnet as resnet\n",
    "from torchsummary import summary\n",
    "import torchvision\n",
    "import torchvision.transforms as transforms\n",
    "import os\n",
    "import argparse\n",
    "#import patchSmoothing.utils_block as utils\n"
   ]
  },
  {
   "cell_type": "code",
   "execution_count": null,
   "metadata": {},
   "outputs": [],
   "source": [
    "from training import load_image_dataset \n",
    "train_data, short_train_data, short_test_data, test_data = load_image_dataset(\"CIFAR10\", './../data')\n",
    "trainloader = torch.utils.data.DataLoader(short_train_data, batch_size=256)\n",
    "testloader = torch.utils.data.DataLoader(short_test_data, batch_size=128)\n",
    "\n",
    "from models import ResNet18, ResNet50\n",
    "torch.manual_seed(0)\n",
    "torch.cuda.manual_seed(0)\n",
    "\n",
    "block_size = 15\n",
    "regularization = 0.0005\n",
    "model  = 'resnet_18'\n",
    "\n",
    "\n",
    "checkpoint_dir = '/master_thesis/checkpoints'\n",
    "if not os.path.exists('./master_thesis/checkpoints'):\n",
    "    os.makedirs('./master_thesis/checkpoints')\n",
    "checkpoint_file = f'./{checkpoint_dir}/cifar_one_block__regularization_{regularization}_model_{model}_block_{block_size}_epoch_{{}}.pth'\n",
    "\n",
    "print(\"==> Checkpoint directory\", checkpoint_dir)\n",
    "print(\"==> Saving to\", checkpoint_file)\n",
    "\n",
    "device = 'cuda' if torch.cuda.is_available() else 'cpu'\n",
    "start_epoch = 0  # start from epoch 0 or last checkpoint epoch\n",
    "\n",
    "    "
   ]
  },
  {
   "cell_type": "code",
   "execution_count": null,
   "metadata": {},
   "outputs": [],
   "source": [
    "from training import train, test_nominal, plot_list\n",
    "\n",
    "accuracy = []\n",
    "epochs = [30,30,20]\n",
    "lrs = [0.1, 0.01, 0.001]\n",
    "noise = 0.0\n",
    "net = ResNet18(ablate = True).to(device)#resnet.\n",
    "if device == 'cuda':\n",
    "    net = torch.nn.DataParallel(net)\n",
    "    cudnn.benchmark = True\n",
    "for i, lr in enumerate(lrs):\n",
    "    end_epoch = epochs[i]\n",
    "    optimizer = optim.SGD(net.parameters(), lr=lr, momentum=0.9, weight_decay=regularization)\n",
    "    print('Starting training')\n",
    "    for epoch in range(start_epoch,  end_epoch+1):\n",
    "        train(net, epoch, optimizer, block_size, sigma = noise, trainloader = trainloader, mode = 'ablation_noise', noise_type = \"gaussian\")\n",
    "        #test_nominal(net, epoch, block_size, noise, end_epoch=end_epoch, testloader = testloader)\n",
    "        if epoch % 10 ==0:\n",
    "            accuracy.append(test_nominal(net,epoch, block_size, noise, mode = 'ablation_noise',noise_type = \"gaussian\", end_epoch=end_epoch, checkpoint_dir=checkpoint_file, testloader = testloader))\n",
    "    \n",
    "\n",
    "plot_list(accuracy)\n",
    "\n",
    "    "
   ]
  }
 ],
 "metadata": {
  "language_info": {
   "name": "python"
  }
 },
 "nbformat": 4,
 "nbformat_minor": 2
}
